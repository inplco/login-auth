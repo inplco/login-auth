{
 "cells": [
  {
   "cell_type": "code",
   "execution_count": 1,
   "metadata": {},
   "outputs": [],
   "source": [
    "import pandas\n",
    "import string\n",
    "import random\n",
    "File1 = \"abstractUpload.csv\"\n",
    "abstu = pandas.read_csv(File1)\n",
    "File2 = \"registrationForm.csv\"\n",
    "regst = pandas.read_csv(File2)\n",
    "absts = abstu.loc[:,'abstract-title']\n",
    "comps = abstu.loc[:,'poster-upload-competition']\n",
    "flags = regst.loc[:,'has-paid']\n",
    "votes = regst.loc[:,'abstract-ticket']\n",
    "\n",
    "def get_random_string(length):\n",
    "    letters = string.ascii_letters\n",
    "    result_str = ''.join(random.choice(letters) for i in range(length))\n",
    "    return result_str\n",
    "\n",
    "posters = []\n",
    "f = open('posters.log', 'w');\n",
    "count = 0\n",
    "for item, flag in zip(list(absts),list(comps)):\n",
    "    if str(item) == 'nan' or 'TEST' in str(item) or str(flag) != 'yes':\n",
    "        #print(item, flag)\n",
    "        continue\n",
    "    else:\n",
    "        count = count + 1\n",
    "        sub = {}\n",
    "        sub['id'] = str(count)\n",
    "        sub['name'] = str(item)\n",
    "        sub['value'] = 'poster' + str(count)\n",
    "        sub['votes'] = '0'\n",
    "        posters.append(sub)\n",
    "        f.write(str(item) + '\\n')\n",
    "f.close()\n",
    "\n",
    "tokens = []\n",
    "f = open('tokens.log', 'w');\n",
    "for item, flag in zip(list(votes),list(flags)):\n",
    "    if str(item) == 'nan' or str(flag) == 'no' or str(flag) == 'nan':\n",
    "        #print(item, flag)\n",
    "        continue\n",
    "    else:\n",
    "        sub = {}\n",
    "        #item = get_random_string(8);\n",
    "        sub['user'] = str(item);\n",
    "        tokens.append(sub)\n",
    "        f.write(str(item) + '\\n')\n",
    "f.close()\n"
   ]
  },
  {
   "cell_type": "code",
   "execution_count": 2,
   "metadata": {},
   "outputs": [],
   "source": [
    "import json\n",
    "\n",
    "with open('tokens.json', 'w') as f:\n",
    "    json.dump(tokens, f, indent=4)"
   ]
  },
  {
   "cell_type": "code",
   "execution_count": 3,
   "metadata": {},
   "outputs": [],
   "source": [
    "import json\n",
    "\n",
    "with open('store.json', 'w') as f:\n",
    "    json.dump(posters, f, indent=4)"
   ]
  },
  {
   "cell_type": "code",
   "execution_count": null,
   "metadata": {},
   "outputs": [],
   "source": []
  }
 ],
 "metadata": {
  "kernelspec": {
   "display_name": "Python 3",
   "language": "python",
   "name": "python3"
  },
  "language_info": {
   "codemirror_mode": {
    "name": "ipython",
    "version": 3
   },
   "file_extension": ".py",
   "mimetype": "text/x-python",
   "name": "python",
   "nbconvert_exporter": "python",
   "pygments_lexer": "ipython3",
   "version": "3.8.3"
  }
 },
 "nbformat": 4,
 "nbformat_minor": 4
}
